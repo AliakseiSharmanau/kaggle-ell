{
 "cells": [
  {
   "cell_type": "code",
   "execution_count": 1,
   "id": "f7dd946a",
   "metadata": {
    "_cell_guid": "b1076dfc-b9ad-4769-8c92-a6c4dae69d19",
    "_uuid": "8f2839f25d086af736a60e9eeb907d3b93b6e0e5",
    "execution": {
     "iopub.execute_input": "2022-10-03T23:42:15.343657Z",
     "iopub.status.busy": "2022-10-03T23:42:15.343049Z",
     "iopub.status.idle": "2022-10-03T23:42:15.366595Z",
     "shell.execute_reply": "2022-10-03T23:42:15.365734Z"
    },
    "papermill": {
     "duration": 0.034693,
     "end_time": "2022-10-03T23:42:15.370460",
     "exception": false,
     "start_time": "2022-10-03T23:42:15.335767",
     "status": "completed"
    },
    "tags": []
   },
   "outputs": [
    {
     "name": "stdout",
     "output_type": "stream",
     "text": [
      "/kaggle/input/vectors/embedding.npy\n",
      "/kaggle/input/vectors/token.txt\n"
     ]
    }
   ],
   "source": [
    "# This Python 3 environment comes with many helpful analytics libraries installed\n",
    "# It is defined by the kaggle/python Docker image: https://github.com/kaggle/docker-python\n",
    "# For example, here's several helpful packages to load\n",
    "\n",
    "import numpy as np # linear algebra\n",
    "import pandas as pd # data processing, CSV file I/O (e.g. pd.read_csv)\n",
    "\n",
    "# Input data files are available in the read-only \"../input/\" directory\n",
    "# For example, running this (by clicking run or pressing Shift+Enter) will list all files under the input directory\n",
    "\n",
    "import os\n",
    "for dirname, _, filenames in os.walk('/kaggle/input'):\n",
    "    for filename in filenames:\n",
    "        print(os.path.join(dirname, filename))\n",
    "\n",
    "# You can write up to 20GB to the current directory (/kaggle/working/) that gets preserved as output when you create a version using \"Save & Run All\" \n",
    "# You can also write temporary files to /kaggle/temp/, but they won't be saved outside of the current session"
   ]
  },
  {
   "cell_type": "code",
   "execution_count": 2,
   "id": "cbd10d89",
   "metadata": {
    "execution": {
     "iopub.execute_input": "2022-10-03T23:42:15.379815Z",
     "iopub.status.busy": "2022-10-03T23:42:15.379435Z",
     "iopub.status.idle": "2022-10-03T23:42:16.589774Z",
     "shell.execute_reply": "2022-10-03T23:42:16.588398Z"
    },
    "papermill": {
     "duration": 1.218267,
     "end_time": "2022-10-03T23:42:16.592583",
     "exception": false,
     "start_time": "2022-10-03T23:42:15.374316",
     "status": "completed"
    },
    "tags": []
   },
   "outputs": [],
   "source": [
    "import gensim\n",
    "\n",
    "import gensim.downloader as api\n",
    "from gensim.models.word2vec import Word2Vec\n",
    "from gensim.models import KeyedVectors\n",
    "\n",
    "from pathlib import Path"
   ]
  },
  {
   "cell_type": "code",
   "execution_count": 3,
   "id": "b29b0d47",
   "metadata": {
    "execution": {
     "iopub.execute_input": "2022-10-03T23:42:16.601355Z",
     "iopub.status.busy": "2022-10-03T23:42:16.600923Z",
     "iopub.status.idle": "2022-10-03T23:42:16.606383Z",
     "shell.execute_reply": "2022-10-03T23:42:16.605243Z"
    },
    "papermill": {
     "duration": 0.012507,
     "end_time": "2022-10-03T23:42:16.608706",
     "exception": false,
     "start_time": "2022-10-03T23:42:16.596199",
     "status": "completed"
    },
    "tags": []
   },
   "outputs": [],
   "source": [
    "ROOT = Path.cwd().parent\n",
    "WORK = ROOT/'working'\n",
    "INPUT = ROOT/'input/vectors'"
   ]
  },
  {
   "cell_type": "code",
   "execution_count": 4,
   "id": "fb9a94d3",
   "metadata": {
    "execution": {
     "iopub.execute_input": "2022-10-03T23:42:16.617789Z",
     "iopub.status.busy": "2022-10-03T23:42:16.617375Z",
     "iopub.status.idle": "2022-10-03T23:42:16.643963Z",
     "shell.execute_reply": "2022-10-03T23:42:16.642830Z"
    },
    "papermill": {
     "duration": 0.034217,
     "end_time": "2022-10-03T23:42:16.646654",
     "exception": false,
     "start_time": "2022-10-03T23:42:16.612437",
     "status": "completed"
    },
    "tags": []
   },
   "outputs": [],
   "source": [
    "values = []\n",
    "with open(INPUT/'token.txt', 'r') as file:\n",
    "    for line in file:\n",
    "        values.append(line.rstrip().rsplit(' '))"
   ]
  },
  {
   "cell_type": "code",
   "execution_count": 5,
   "id": "6ac75f45",
   "metadata": {
    "execution": {
     "iopub.execute_input": "2022-10-03T23:42:16.655760Z",
     "iopub.status.busy": "2022-10-03T23:42:16.655342Z",
     "iopub.status.idle": "2022-10-03T23:42:45.811802Z",
     "shell.execute_reply": "2022-10-03T23:42:45.810968Z"
    },
    "papermill": {
     "duration": 29.164061,
     "end_time": "2022-10-03T23:42:45.814482",
     "exception": false,
     "start_time": "2022-10-03T23:42:16.650421",
     "status": "completed"
    },
    "tags": []
   },
   "outputs": [
    {
     "name": "stdout",
     "output_type": "stream",
     "text": [
      "[==================================================] 100.0% 66.0/66.0MB downloaded\n"
     ]
    }
   ],
   "source": [
    "model = api.load('glove-wiki-gigaword-50')"
   ]
  },
  {
   "cell_type": "code",
   "execution_count": 6,
   "id": "cecf87b8",
   "metadata": {
    "execution": {
     "iopub.execute_input": "2022-10-03T23:42:46.919004Z",
     "iopub.status.busy": "2022-10-03T23:42:46.918582Z",
     "iopub.status.idle": "2022-10-03T23:42:46.922914Z",
     "shell.execute_reply": "2022-10-03T23:42:46.922025Z"
    },
    "papermill": {
     "duration": 0.593326,
     "end_time": "2022-10-03T23:42:46.925109",
     "exception": false,
     "start_time": "2022-10-03T23:42:46.331783",
     "status": "completed"
    },
    "tags": []
   },
   "outputs": [],
   "source": [
    "w2v = model.key_to_index"
   ]
  },
  {
   "cell_type": "code",
   "execution_count": 7,
   "id": "829ec5a9",
   "metadata": {
    "collapsed": true,
    "execution": {
     "iopub.execute_input": "2022-10-03T23:42:47.946792Z",
     "iopub.status.busy": "2022-10-03T23:42:47.946089Z",
     "iopub.status.idle": "2022-10-03T23:42:47.957427Z",
     "shell.execute_reply": "2022-10-03T23:42:47.956463Z"
    },
    "jupyter": {
     "outputs_hidden": true
    },
    "papermill": {
     "duration": 0.525175,
     "end_time": "2022-10-03T23:42:47.959832",
     "exception": false,
     "start_time": "2022-10-03T23:42:47.434657",
     "status": "completed"
    },
    "tags": []
   },
   "outputs": [],
   "source": [
    "wv = list(w2v.keys())"
   ]
  },
  {
   "cell_type": "code",
   "execution_count": 8,
   "id": "4b57adc3",
   "metadata": {
    "execution": {
     "iopub.execute_input": "2022-10-03T23:42:49.081767Z",
     "iopub.status.busy": "2022-10-03T23:42:49.081129Z",
     "iopub.status.idle": "2022-10-03T23:45:38.952178Z",
     "shell.execute_reply": "2022-10-03T23:45:38.950614Z"
    },
    "papermill": {
     "duration": 170.403374,
     "end_time": "2022-10-03T23:45:38.955531",
     "exception": false,
     "start_time": "2022-10-03T23:42:48.552157",
     "status": "completed"
    },
    "tags": []
   },
   "outputs": [],
   "source": [
    "embedding_matrix = np.random.random((len(values)+1, 128))\n",
    "for value in values:\n",
    "    if value in wv:\n",
    "        embedding_matrix[value] = model[value]\n",
    "\n",
    "        \n",
    "        "
   ]
  },
  {
   "cell_type": "code",
   "execution_count": 9,
   "id": "2a62ffe8",
   "metadata": {
    "collapsed": true,
    "execution": {
     "iopub.execute_input": "2022-10-03T23:45:40.043248Z",
     "iopub.status.busy": "2022-10-03T23:45:40.042211Z",
     "iopub.status.idle": "2022-10-03T23:45:40.053388Z",
     "shell.execute_reply": "2022-10-03T23:45:40.052274Z"
    },
    "jupyter": {
     "outputs_hidden": true
    },
    "papermill": {
     "duration": 0.590999,
     "end_time": "2022-10-03T23:45:40.055751",
     "exception": false,
     "start_time": "2022-10-03T23:45:39.464752",
     "status": "completed"
    },
    "tags": []
   },
   "outputs": [
    {
     "data": {
      "text/plain": [
       "array([0.59314176, 0.28756547, 0.40781538, 0.66203442, 0.34821017,\n",
       "       0.02930813, 0.43759112, 0.57410235, 0.58263749, 0.5512376 ,\n",
       "       0.1184265 , 0.45002682, 0.17203147, 0.27315331, 0.0568779 ,\n",
       "       0.09109243, 0.29153779, 0.51113922, 0.34292897, 0.56426549,\n",
       "       0.37603329, 0.38629494, 0.44617128, 0.57157379, 0.91139249,\n",
       "       0.76759754, 0.18377679, 0.0511943 , 0.18059036, 0.34949711,\n",
       "       0.05113218, 0.20577722, 0.25407036, 0.62347109, 0.46567228,\n",
       "       0.79640935, 0.43542896, 0.301877  , 0.85315164, 0.78429659,\n",
       "       0.93672145, 0.9344869 , 0.72044421, 0.48626555, 0.44274312,\n",
       "       0.04121803, 0.34847324, 0.15447946, 0.17603346, 0.73606177,\n",
       "       0.30201792, 0.22864277, 0.83070418, 0.38285838, 0.75640095,\n",
       "       0.80306672, 0.33929155, 0.00459842, 0.36434017, 0.07725208,\n",
       "       0.05923191, 0.85666797, 0.72817677, 0.53923089, 0.64851982,\n",
       "       0.36244702, 0.84787272, 0.82390511, 0.54673469, 0.64707692,\n",
       "       0.43063095, 0.25124293, 0.65609734, 0.02919946, 0.1879893 ,\n",
       "       0.8618156 , 0.47622162, 0.07690188, 0.37442142, 0.66070676,\n",
       "       0.16699933, 0.8177501 , 0.18898607, 0.68691465, 0.48336448,\n",
       "       0.77684112, 0.42611592, 0.65640551, 0.35701581, 0.56035838,\n",
       "       0.55348618, 0.82816648, 0.99246378, 0.52290804, 0.22750994,\n",
       "       0.54417602, 0.97280967, 0.97680885, 0.13579391, 0.45800496,\n",
       "       0.38261111, 0.13924587, 0.63927077, 0.30138197, 0.95939653,\n",
       "       0.22496463, 0.5732259 , 0.39095836, 0.1185073 , 0.26643297,\n",
       "       0.25676094, 0.58373547, 0.78469486, 0.75415094, 0.19925015,\n",
       "       0.9381555 , 0.09709744, 0.60303285, 0.41612019, 0.19950231,\n",
       "       0.63063019, 0.58114784, 0.08226473, 0.23111043, 0.45713531,\n",
       "       0.60123945, 0.36536132, 0.38034175])"
      ]
     },
     "execution_count": 9,
     "metadata": {},
     "output_type": "execute_result"
    }
   ],
   "source": [
    "embedding_matrix[1]"
   ]
  },
  {
   "cell_type": "code",
   "execution_count": 10,
   "id": "ee76334f",
   "metadata": {
    "execution": {
     "iopub.execute_input": "2022-10-03T23:45:41.129079Z",
     "iopub.status.busy": "2022-10-03T23:45:41.128636Z",
     "iopub.status.idle": "2022-10-03T23:45:41.154204Z",
     "shell.execute_reply": "2022-10-03T23:45:41.152889Z"
    },
    "papermill": {
     "duration": 0.596375,
     "end_time": "2022-10-03T23:45:41.156999",
     "exception": false,
     "start_time": "2022-10-03T23:45:40.560624",
     "status": "completed"
    },
    "tags": []
   },
   "outputs": [],
   "source": [
    "np.save(WORK/'embedding.npy', embedding_matrix)"
   ]
  }
 ],
 "metadata": {
  "kernelspec": {
   "display_name": "Python 3",
   "language": "python",
   "name": "python3"
  },
  "language_info": {
   "codemirror_mode": {
    "name": "ipython",
    "version": 3
   },
   "file_extension": ".py",
   "mimetype": "text/x-python",
   "name": "python",
   "nbconvert_exporter": "python",
   "pygments_lexer": "ipython3",
   "version": "3.7.12"
  },
  "papermill": {
   "default_parameters": {},
   "duration": 217.825671,
   "end_time": "2022-10-03T23:45:42.592085",
   "environment_variables": {},
   "exception": null,
   "input_path": "__notebook__.ipynb",
   "output_path": "__notebook__.ipynb",
   "parameters": {},
   "start_time": "2022-10-03T23:42:04.766414",
   "version": "2.3.4"
  }
 },
 "nbformat": 4,
 "nbformat_minor": 5
}
